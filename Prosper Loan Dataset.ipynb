{
 "cells": [
  {
   "cell_type": "markdown",
   "id": "4dd8d61f",
   "metadata": {},
   "source": [
    "# LINK TO GET THE DATASET USED IN THIS PROJECT"
   ]
  },
  {
   "cell_type": "markdown",
   "id": "5e2476e3",
   "metadata": {},
   "source": [
    "\n",
    "Please click [here](https://docs.google.com/document/d/e/2PACX-1vQmkX4iOT6Rcrin42vslquX2_wQCjIa_hbwD0xmxrERPSOJYDtpNc_3wwK_p9_KpOsfA6QVyEHdxxq7/pub) to download the dataset used in this project\n"
   ]
  }
 ],
 "metadata": {
  "kernelspec": {
   "display_name": "Python 3 (ipykernel)",
   "language": "python",
   "name": "python3"
  },
  "language_info": {
   "codemirror_mode": {
    "name": "ipython",
    "version": 3
   },
   "file_extension": ".py",
   "mimetype": "text/x-python",
   "name": "python",
   "nbconvert_exporter": "python",
   "pygments_lexer": "ipython3",
   "version": "3.9.12"
  }
 },
 "nbformat": 4,
 "nbformat_minor": 5
}
